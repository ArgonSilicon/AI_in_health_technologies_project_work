{
 "cells": [
  {
   "cell_type": "code",
   "execution_count": null,
   "metadata": {
    "id": "FR6gDcGlBKxw"
   },
   "outputs": [],
   "source": [
    "import numpy as np\n",
    "import os, datetime\n",
    "import PIL\n",
    "import PIL.Image\n",
    "import tensorflow as tf\n",
    "import tensorflow_datasets as tfds\n",
    "from tensorflow.keras import datasets, layers, models\n",
    "import numpy as np\n",
    "import pandas as pd\n",
    "import pathlib\n",
    "import matplotlib.pyplot as plt\n",
    "from collections import Counter\n",
    "import itertools\n",
    "from sklearn.metrics import multilabel_confusion_matrix, confusion_matrix, roc_auc_score, roc_curve,auc, classification_report\n",
    "import seaborn as sns\n",
    "from tensorflow.keras.callbacks import EarlyStopping\n",
    "from tensorflow.keras import regularizers\n",
    "from mpl_toolkits.axes_grid1 import make_axes_locatable"
   ]
  },
  {
   "cell_type": "code",
   "execution_count": null,
   "metadata": {
    "id": "UkyVF4Oxolgd"
   },
   "outputs": [],
   "source": [
    "# Set GPU memory growth on\n",
    "\n",
    "gpus = tf.config.experimental.list_physical_devices('GPU')\n",
    "if gpus:\n",
    "  try:\n",
    "    # Currently, memory growth needs to be the same across GPUs\n",
    "    for gpu in gpus:\n",
    "      tf.config.experimental.set_memory_growth(gpu, True)\n",
    "    logical_gpus = tf.config.experimental.list_logical_devices('GPU')\n",
    "    print(len(gpus), \"Physical GPUs,\", len(logical_gpus), \"Logical GPUs\")\n",
    "  except RuntimeError as e:\n",
    "    # Memory growth must be set before GPUs have been initialized\n",
    "    print(e)\n"
   ]
  },
  {
   "cell_type": "code",
   "execution_count": null,
   "metadata": {
    "id": "cqVOf2xTJ520"
   },
   "outputs": [],
   "source": [
    "from google.colab import drive\n",
    "drive.mount('/content/drive/')\n",
    "\n",
    "data_dir = \"drive/MyDrive/AI_project/AI_dataset5\"\n",
    "data_dir = pathlib.Path(data_dir)\n",
    "\n",
    "save_dir = \"drive/MyDrive/AI_project/Models\"\n",
    "save_dir = pathlib.Path(save_dir)\n",
    "\n",
    "logs_dir = \"drive/MyDrive/AI_project/Logs\"\n",
    "logs_dir = pathlib.Path(data_dir)"
   ]
  },
  {
   "cell_type": "code",
   "execution_count": null,
   "metadata": {
    "id": "nxoFAYLfCJT1"
   },
   "outputs": [],
   "source": [
    "# Clear any logs from previous runs\n",
    "#rm -rf logs_dir"
   ]
  },
  {
   "cell_type": "code",
   "execution_count": null,
   "metadata": {
    "id": "QhewYCxhXQBX"
   },
   "outputs": [],
   "source": [
    "image_count = len(list(data_dir.glob('*/*.png')))\n",
    "print(image_count)"
   ]
  },
  {
   "cell_type": "markdown",
   "metadata": {
    "id": "6jobDTUs8Wxu"
   },
   "source": [
    "### Create a dataset"
   ]
  },
  {
   "cell_type": "code",
   "execution_count": null,
   "metadata": {
    "id": "yNC4HLcRGMuh"
   },
   "outputs": [],
   "source": [
    "import os\n",
    "file_names = os.listdir(\"/content/drive/My Drive/AI_project/AI_dataset5\")\n",
    "file_names\n"
   ]
  },
  {
   "cell_type": "code",
   "execution_count": null,
   "metadata": {
    "id": "qJdpyqK541ty"
   },
   "outputs": [],
   "source": [
    "batch_size = 32\n",
    "img_width = 200\n",
    "img_height = 200\n",
    "classes = ['N', 'A', 'O', '~']"
   ]
  },
  {
   "cell_type": "code",
   "execution_count": null,
   "metadata": {
    "id": "Bj6iVYbgJISE"
   },
   "outputs": [],
   "source": [
    "train_ds = tf.keras.preprocessing.image_dataset_from_directory(\n",
    "  data_dir,\n",
    "  validation_split=0.2,\n",
    "  subset=\"training\",\n",
    "  seed=123,\n",
    "  image_size=(img_width,img_height),\n",
    "  batch_size=batch_size)\n",
    "\n",
    "val_ds = tf.keras.preprocessing.image_dataset_from_directory(\n",
    "  data_dir,\n",
    "  validation_split=0.2,\n",
    "  subset=\"validation\",\n",
    "  seed=123,\n",
    "  image_size=(img_width,img_height),\n",
    "  batch_size=batch_size)\n"
   ]
  },
  {
   "cell_type": "code",
   "execution_count": null,
   "metadata": {
    "id": "aRhpnF2iJa0y"
   },
   "outputs": [],
   "source": [
    "class_names_t = train_ds.class_names\n",
    "print(class_names_t)\n",
    "\n",
    "class_names_v = val_ds.class_names\n",
    "print(class_names_v)"
   ]
  },
  {
   "cell_type": "code",
   "execution_count": null,
   "metadata": {
    "id": "UqQ-prraJsCF"
   },
   "outputs": [],
   "source": [
    "plt.figure(figsize=(10, 10))\n",
    "for images, labels in train_ds.take(1):\n",
    "  for i in range(9):\n",
    "    ax = plt.subplot(3, 3, i + 1)\n",
    "    plt.imshow(images[i].numpy().astype(\"uint8\"))\n",
    "    plt.title(class_names_v[labels[i]])\n",
    "    plt.axis(\"off\")\n",
    "plt.show()"
   ]
  },
  {
   "cell_type": "markdown",
   "metadata": {
    "id": "Ybl6a2YCg1rV"
   },
   "source": [
    "### Standardize the data\n"
   ]
  },
  {
   "cell_type": "code",
   "execution_count": null,
   "metadata": {
    "id": "OghFZDEVtlj_"
   },
   "outputs": [],
   "source": [
    "AUTOTUNE = tf.data.experimental.AUTOTUNE\n",
    "\n",
    "train_ds = train_ds.cache().prefetch(buffer_size=AUTOTUNE)\n",
    "val_ds = val_ds.cache().prefetch(buffer_size=AUTOTUNE)"
   ]
  },
  {
   "cell_type": "code",
   "execution_count": null,
   "metadata": {
    "id": "aoZrnewBtdc6"
   },
   "outputs": [],
   "source": [
    "# define layers\n",
    "normalization_layer = tf.keras.layers.experimental.preprocessing.Rescaling(1./255)\n",
    "\n",
    "global_average_layer = tf.keras.layers.GlobalAveragePooling2D()\n",
    "\n",
    "prediction_layer_1 = tf.keras.layers.Dense(512,activation='relu')\n",
    "prediction_layer_2 = tf.keras.layers.Dense(256,activation='relu')\n",
    "prediction_layer_3 = tf.keras.layers.Dense(128,activation='relu')\n",
    "prediction_layer_4 = tf.keras.layers.Dense(4)"
   ]
  },
  {
   "cell_type": "code",
   "execution_count": null,
   "metadata": {
    "id": "Dzso5Dip9yXl"
   },
   "outputs": [],
   "source": [
    "def res_net_block(input_data, filters, conv_size):\n",
    "  x = layers.Conv2D(filters, conv_size, activation='relu', padding='same',kernel_regularizer=regularizers.l2(1e-4))(input_data)\n",
    "  x = tf.keras.layers.SpatialDropout2D(0.2)(x)\n",
    "  x = layers.BatchNormalization()(x)\n",
    "  x = layers.Conv2D(filters, conv_size, activation=None, padding='same',kernel_regularizer=regularizers.l2(1e-4))(x)\n",
    "  x = tf.keras.layers.SpatialDropout2D(0.2)(x)\n",
    "  x = layers.BatchNormalization()(x)\n",
    "  x = layers.Add()([x, input_data]) # skip connection\n",
    "  x = layers.Activation('relu')(x)\n",
    "  return x"
   ]
  },
  {
   "cell_type": "code",
   "execution_count": null,
   "metadata": {
    "id": "mjLG4_lbrN5G"
   },
   "outputs": [],
   "source": [
    "custom_early_stopping = EarlyStopping(monitor = 'val_accuracy', \n",
    "                                      patience = 6, \n",
    "                                      min_delta = 0.01, \n",
    "                                      mode='max')"
   ]
  },
  {
   "cell_type": "code",
   "execution_count": null,
   "metadata": {
    "id": "TFrKeN1itaBB"
   },
   "outputs": [],
   "source": [
    "# the model\n",
    "IMG_SIZE = (200,200)\n",
    "IMG_SHAPE = IMG_SIZE + (3,)\n",
    "print(IMG_SHAPE)\n",
    "\n",
    "inputs = tf.keras.Input(shape=IMG_SHAPE)\n",
    "\n",
    "x = normalization_layer(inputs)\n",
    "\n",
    "x = tf.keras.layers.Conv2D(32,(3,3), activation='relu',padding=\"same\",kernel_regularizer=regularizers.l2(1e-4))(x)\n",
    "x = tf.keras.layers.SpatialDropout2D(0.2)(x)\n",
    "x = layers.BatchNormalization()(x)\n",
    "\n",
    "num_res_net_blocks = 5\n",
    "for i in range(num_res_net_blocks):\n",
    "    x = res_net_block(x, 32, 3)\n",
    "\n",
    "x = tf.keras.layers.MaxPooling2D((2,2))(x)\n",
    "\n",
    "x = tf.keras.layers.Conv2D(64,(5,5), activation='relu',padding=\"same\",kernel_regularizer=regularizers.l2(1e-4))(x)\n",
    "x = tf.keras.layers.SpatialDropout2D(0.2)(x)\n",
    "x = layers.BatchNormalization()(x)\n",
    "\n",
    "num_res_net_blocks = 5\n",
    "for i in range(num_res_net_blocks):\n",
    "    x = res_net_block(x, 64, 5)\n",
    "\n",
    "x = tf.keras.layers.MaxPooling2D((2,2))(x)\n",
    "\n",
    "x = tf.keras.layers.Conv2D(128,(9,9), activation='relu',padding=\"same\",kernel_regularizer=regularizers.l2(1e-4))(x)\n",
    "x = tf.keras.layers.SpatialDropout2D(0.2)(x)\n",
    "x = layers.BatchNormalization()(x)\n",
    "\n",
    "num_res_net_blocks = 5\n",
    "for i in range(num_res_net_blocks):\n",
    "    x = res_net_block(x, 128, 9)\n",
    "\n",
    "x = tf.keras.layers.MaxPooling2D((2,2))(x)\n",
    "\n",
    "x = global_average_layer(x)\n",
    "\n",
    "x = prediction_layer_1(x,training=True)\n",
    "x = tf.keras.layers.Dropout(0.2)(x)\n",
    "\n",
    "x = prediction_layer_2(x,training=True)\n",
    "x = tf.keras.layers.Dropout(0.2)(x)\n",
    "\n",
    "x = prediction_layer_3(x,training=True)\n",
    "x = tf.keras.layers.Dropout(0.2)(x)\n",
    "\n",
    "outputs = prediction_layer_4(x, training=True)\n",
    "\n",
    "model = tf.keras.Model(inputs, outputs)\n",
    "\n",
    "base_learning_rate = 0.0001\n",
    "\n",
    "\n",
    "model.compile(optimizer=tf.keras.optimizers.Adam(lr=base_learning_rate),\n",
    "              loss=tf.keras.losses.SparseCategoricalCrossentropy(from_logits=True),\n",
    "              metrics=['accuracy'])\n",
    "\n",
    "model.summary()"
   ]
  },
  {
   "cell_type": "code",
   "execution_count": null,
   "metadata": {
    "id": "qirPFDzMQTKf"
   },
   "outputs": [],
   "source": [
    "initial_epochs = 50\n",
    "\n",
    "loss0, accuracy0 = model.evaluate(val_ds) "
   ]
  },
  {
   "cell_type": "code",
   "execution_count": null,
   "metadata": {
    "colab": {
     "base_uri": "https://localhost:8080/"
    },
    "id": "5STnLaHZQT4m",
    "outputId": "d5399c6c-c93b-4004-9118-74752db83115"
   },
   "outputs": [
    {
     "name": "stdout",
     "output_type": "stream",
     "text": [
      "Epoch 1/50\n",
      "404/404 [==============================] - 5246s 13s/step - loss: 1.5148 - accuracy: 0.3940 - val_loss: 2.2670 - val_accuracy: 0.2525\n",
      "Epoch 2/50\n",
      "404/404 [==============================] - 538s 1s/step - loss: 1.3350 - accuracy: 0.5031 - val_loss: 1.3298 - val_accuracy: 0.5068\n",
      "Epoch 3/50\n",
      "404/404 [==============================] - 538s 1s/step - loss: 1.2387 - accuracy: 0.5663 - val_loss: 1.1629 - val_accuracy: 0.6111\n",
      "Epoch 4/50\n",
      "404/404 [==============================] - 538s 1s/step - loss: 1.1448 - accuracy: 0.6166 - val_loss: 1.0465 - val_accuracy: 0.6624\n",
      "Epoch 5/50\n",
      "404/404 [==============================] - 538s 1s/step - loss: 1.0798 - accuracy: 0.6507 - val_loss: 0.9581 - val_accuracy: 0.6921\n",
      "Epoch 6/50\n",
      "404/404 [==============================] - 537s 1s/step - loss: 1.0322 - accuracy: 0.6709 - val_loss: 0.9233 - val_accuracy: 0.7095\n",
      "Epoch 7/50\n",
      "404/404 [==============================] - 537s 1s/step - loss: 0.9926 - accuracy: 0.6931 - val_loss: 0.9018 - val_accuracy: 0.7314\n",
      "Epoch 8/50\n",
      "404/404 [==============================] - 538s 1s/step - loss: 0.9633 - accuracy: 0.7033 - val_loss: 0.8816 - val_accuracy: 0.7379\n",
      "Epoch 9/50\n",
      "404/404 [==============================] - 537s 1s/step - loss: 0.9415 - accuracy: 0.7116 - val_loss: 0.8594 - val_accuracy: 0.7457\n",
      "Epoch 10/50\n",
      "404/404 [==============================] - 537s 1s/step - loss: 0.9236 - accuracy: 0.7140 - val_loss: 0.8477 - val_accuracy: 0.7512\n",
      "Epoch 11/50\n",
      "404/404 [==============================] - 537s 1s/step - loss: 0.9034 - accuracy: 0.7283 - val_loss: 0.8221 - val_accuracy: 0.7587\n",
      "Epoch 12/50\n",
      "404/404 [==============================] - 537s 1s/step - loss: 0.8859 - accuracy: 0.7306 - val_loss: 0.8082 - val_accuracy: 0.7627\n",
      "Epoch 13/50\n",
      "404/404 [==============================] - 537s 1s/step - loss: 0.8684 - accuracy: 0.7375 - val_loss: 0.8085 - val_accuracy: 0.7608\n",
      "Epoch 14/50\n",
      "404/404 [==============================] - 537s 1s/step - loss: 0.8533 - accuracy: 0.7387 - val_loss: 0.8199 - val_accuracy: 0.7450\n",
      "Epoch 15/50\n",
      "404/404 [==============================] - 537s 1s/step - loss: 0.8408 - accuracy: 0.7447 - val_loss: 0.8027 - val_accuracy: 0.7636\n",
      "Epoch 16/50\n",
      "404/404 [==============================] - 537s 1s/step - loss: 0.8286 - accuracy: 0.7502 - val_loss: 0.7821 - val_accuracy: 0.7701\n",
      "Epoch 17/50\n",
      "404/404 [==============================] - 537s 1s/step - loss: 0.8144 - accuracy: 0.7498 - val_loss: 0.7799 - val_accuracy: 0.7618\n",
      "Epoch 18/50\n",
      "404/404 [==============================] - 537s 1s/step - loss: 0.8010 - accuracy: 0.7559 - val_loss: 0.7746 - val_accuracy: 0.7661\n",
      "Epoch 19/50\n",
      "404/404 [==============================] - 537s 1s/step - loss: 0.7931 - accuracy: 0.7585 - val_loss: 0.7690 - val_accuracy: 0.7698\n",
      "Epoch 20/50\n",
      "404/404 [==============================] - 537s 1s/step - loss: 0.7834 - accuracy: 0.7635 - val_loss: 0.7611 - val_accuracy: 0.7763\n",
      "Epoch 21/50\n",
      "404/404 [==============================] - 536s 1s/step - loss: 0.7692 - accuracy: 0.7678 - val_loss: 0.7517 - val_accuracy: 0.7679\n",
      "Epoch 22/50\n",
      "404/404 [==============================] - 537s 1s/step - loss: 0.7602 - accuracy: 0.7706 - val_loss: 0.7673 - val_accuracy: 0.7686\n"
     ]
    }
   ],
   "source": [
    "history = model.fit(train_ds,\n",
    "                    epochs=initial_epochs,\n",
    "                    validation_data=val_ds,\n",
    "                    callbacks=[custom_early_stopping])"
   ]
  },
  {
   "cell_type": "code",
   "execution_count": null,
   "metadata": {
    "colab": {
     "base_uri": "https://localhost:8080/",
     "height": 513
    },
    "id": "b-GuOqbGQX7g",
    "outputId": "e10ff5b2-4deb-45c1-acd2-18de0169c0a5"
   },
   "outputs": [
    {
     "data": {
      "image/png": "[encoded data removed]",
      "text/plain": [
       "<Figure size 576x576 with 2 Axes>"
      ]
     },
     "metadata": {
      "needs_background": "light",
      "tags": []
     },
     "output_type": "display_data"
    }
   ],
   "source": [
    "acc = history.history['accuracy']\n",
    "val_acc = history.history['val_accuracy']\n",
    "\n",
    "loss = history.history['loss']\n",
    "val_loss = history.history['val_loss']\n",
    "\n",
    "plt.figure(figsize=(8, 8))\n",
    "plt.subplot(2, 1, 1)\n",
    "plt.plot(acc, label='Training Accuracy')\n",
    "plt.plot(val_acc, label='Validation Accuracy')\n",
    "plt.legend(loc='lower right')\n",
    "plt.ylabel('Accuracy')\n",
    "plt.ylim([min(plt.ylim()),1])\n",
    "plt.title('Training and Validation Accuracy')\n",
    "\n",
    "plt.subplot(2, 1, 2)\n",
    "plt.plot(loss, label='Training Loss')\n",
    "plt.plot(val_loss, label='Validation Loss')\n",
    "plt.legend(loc='upper right')\n",
    "plt.ylabel('Cross Entropy')\n",
    "plt.ylim([0,1.0])\n",
    "plt.title('Training and Validation Loss')\n",
    "plt.xlabel('epoch')\n",
    "plt.show()"
   ]
  },
  {
   "cell_type": "code",
   "execution_count": null,
   "metadata": {
    "colab": {
     "base_uri": "https://localhost:8080/"
    },
    "id": "xYl22UHcC9EJ",
    "outputId": "5cc79f05-f7bf-4215-c761-a8e9ca50c4f8"
   },
   "outputs": [
    {
     "name": "stdout",
     "output_type": "stream",
     "text": [
      "INFO:tensorflow:Assets written to: drive/MyDrive/AI_project/Models/classifier_final_cnn_many_layers.pt/assets\n"
     ]
    }
   ],
   "source": [
    "# save the model\n",
    "model_save_name = 'classifier_final_cnn_many_layers.pt'\n",
    "path = os.path.join(save_dir,model_save_name)\n",
    "model.save(path)"
   ]
  },
  {
   "cell_type": "code",
   "execution_count": null,
   "metadata": {
    "id": "ysCfBb7x7pfu"
   },
   "outputs": [],
   "source": [
    "# get validation dataset labels\n",
    "val_labels = np.concatenate([y for x,y in val_ds],axis=0)\n",
    "val_labels_count = Counter(val_labels)\n",
    "val_labels_count\n"
   ]
  },
  {
   "cell_type": "code",
   "execution_count": null,
   "metadata": {
    "id": "TL4AbfQwYSyv"
   },
   "outputs": [],
   "source": [
    "# predict validation set labels\n",
    "probability_model = tf.keras.Sequential([model, \n",
    "                                         tf.keras.layers.Softmax()])\n",
    "\n",
    "predictions = model.predict(val_ds)\n",
    "pred_per = probability_model.predict(val_ds)\n",
    "max = np.argmax(predictions,axis=1)\n",
    "\n"
   ]
  },
  {
   "cell_type": "code",
   "execution_count": null,
   "metadata": {
    "colab": {
     "base_uri": "https://localhost:8080/"
    },
    "id": "f63s7wO9bxXw",
    "outputId": "cc45ae39-7f3f-4aa3-870b-347978388602"
   },
   "outputs": [
    {
     "name": "stdout",
     "output_type": "stream",
     "text": [
      "(3232,)\n",
      "[[-0.94501954 -2.1015708   1.9921561   3.089431  ]\n",
      " [-0.48281547 -3.6383634   3.306597    3.3808413 ]\n",
      " [-2.094463    3.0203426  -1.3959237  -0.5832436 ]\n",
      " ...\n",
      " [ 7.091437   -5.1028233  -3.036681    2.2541873 ]\n",
      " [ 2.6686318  -2.980048   -3.80962     4.299637  ]\n",
      " [ 8.787388   -6.14559    -3.7511823   2.4734209 ]]\n"
     ]
    }
   ],
   "source": [
    "print(val_labels.shape)\n",
    "print(predictions)"
   ]
  },
  {
   "cell_type": "code",
   "execution_count": null,
   "metadata": {
    "id": "foVtAwnpdXOU"
   },
   "outputs": [],
   "source": [
    "# training dataset labels\n",
    "train_labels = np.concatenate([y for x,y in train_ds],axis=0)\n",
    "train_labels_count = Counter(train_labels)\n",
    "train_labels_count"
   ]
  },
  {
   "cell_type": "code",
   "execution_count": null,
   "metadata": {
    "id": "9WgEabQMeEv8"
   },
   "outputs": [],
   "source": [
    "# confusion matrix for validation data\n",
    "cf_a = tf.math.confusion_matrix(\n",
    "    val_labels, max, num_classes=4, weights=None, dtype=tf.dtypes.int32,\n",
    "    name=None\n",
    ")"
   ]
  },
  {
   "cell_type": "code",
   "execution_count": null,
   "metadata": {
    "id": "T7n-CYnqe7Pj"
   },
   "outputs": [],
   "source": [
    "# function for confusion matrix plotting\n",
    "\n",
    "def plot_confusion_matrix(cm, class_names,title=\"Confusion Matrix\"):\n",
    "  \"\"\"\n",
    "  Returns a matplotlib figure containing the plotted confusion matrix.\n",
    "\n",
    "  Args:\n",
    "    cm (array, shape = [n, n]): a confusion matrix of integer classes\n",
    "    class_names (array, shape = [n]): String names of the integer classes\n",
    "  \"\"\"\n",
    "  \n",
    "  figure,ax = plt.subplots(figsize=(8, 7))\n",
    "  im = ax.imshow(cm, interpolation='nearest', cmap=plt.cm.Blues)\n",
    "  plt.colorbar(im,ax=ax)\n",
    "  ax.set_aspect('auto')\n",
    "  plt.title(title)\n",
    "  tick_marks = np.arange(len(class_names))\n",
    "  plt.xticks(tick_marks, class_names, rotation=45)\n",
    "  plt.yticks(tick_marks, class_names)\n",
    "\n",
    "  # Normalize the confusion matrix.\n",
    "  #cm = np.around(cm.astype('float') / cm.sum(axis=1)[:, np.newaxis], decimals=2)\n",
    "\n",
    "  # Use white text if squares are dark; otherwise black.\n",
    "  threshold = cm.max() / 2.\n",
    "  for i, j in itertools.product(range(cm.shape[0]), range(cm.shape[1])):\n",
    "    color = \"white\" if cm[i, j] > threshold else \"black\"\n",
    "    plt.text(j, i, cm[i, j], horizontalalignment=\"center\", color=color)\n",
    "\n",
    "  plt.tight_layout()\n",
    "  plt.ylabel('True label')\n",
    "  plt.xlabel('Predicted label')\n",
    "  return figure"
   ]
  },
  {
   "cell_type": "code",
   "execution_count": null,
   "metadata": {
    "colab": {
     "base_uri": "https://localhost:8080/",
     "height": 527
    },
    "id": "wv5WAbQFe9vK",
    "outputId": "4b9c2075-0c27-4628-e392-1f72959815a5"
   },
   "outputs": [
    {
     "data": {
      "image/png": "[encoded data removed]",
      "text/plain": [
       "<Figure size 576x504 with 2 Axes>"
      ]
     },
     "metadata": {
      "needs_background": "light",
      "tags": []
     },
     "output_type": "display_data"
    }
   ],
   "source": [
    "# plot the matrix\n",
    "cf_fig_a = plot_confusion_matrix(cf_a.numpy(),class_names_v, \"Confusion matrix / after training\")\n",
    "cf_fig_a.show()"
   ]
  },
  {
   "cell_type": "code",
   "execution_count": null,
   "metadata": {
    "id": "Aq1ypjbMuNP7"
   },
   "outputs": [],
   "source": [
    "def plot_multiclass_roc(X_test, y_test, label, n_classes, figsize=(17, 6)):\n",
    "    y_score = probability_model.predict(X_test)\n",
    "\n",
    "    # structures\n",
    "    fpr = dict()\n",
    "    tpr = dict()\n",
    "    roc_auc = dict()\n",
    "\n",
    "    # calculate dummies once\n",
    "    y_test_dummies = pd.get_dummies(y_test, drop_first=False).values\n",
    "    for i in range(n_classes):\n",
    "        fpr[i], tpr[i], _ = roc_curve(y_test_dummies[:, i], y_score[:, i])\n",
    "        roc_auc[i] = auc(fpr[i], tpr[i])\n",
    "\n",
    "    # roc for each class\n",
    "    fig, ax = plt.subplots(figsize=figsize)\n",
    "    ax.plot([0, 1], [0, 1], 'k--')\n",
    "    ax.set_xlim([0.0, 1.0])\n",
    "    ax.set_ylim([0.0, 1.05])\n",
    "    ax.set_xlabel('False Positive Rate')\n",
    "    ax.set_ylabel('True Positive Rate')\n",
    "    ax.set_title('Receiver operating characteristic example')\n",
    "    for i in range(n_classes):\n",
    "        ax.plot(fpr[i], tpr[i], label='ROC curve (area = %0.2f) for label %s' % (roc_auc[i],label[i]))\n",
    "    ax.legend(loc=\"best\")\n",
    "    ax.grid(alpha=.4)\n",
    "    sns.despine()\n",
    "    plt.show()\n",
    "\n"
   ]
  },
  {
   "cell_type": "code",
   "execution_count": null,
   "metadata": {
    "colab": {
     "base_uri": "https://localhost:8080/",
     "height": 621
    },
    "id": "bLYpzhHcRN_4",
    "outputId": "11d5c8a2-08d0-4f3c-a6cb-c4ddc35f1489"
   },
   "outputs": [
    {
     "data": {
      "image/png": "[encoded data removed]",
      "text/plain": [
       "<Figure size 1152x720 with 1 Axes>"
      ]
     },
     "metadata": {
      "needs_background": "light",
      "tags": []
     },
     "output_type": "display_data"
    }
   ],
   "source": [
    "# plot ROC curves\n",
    "plot_multiclass_roc(val_ds, val_labels, class_names_v, n_classes=4, figsize=(16, 10))"
   ]
  },
  {
   "cell_type": "code",
   "execution_count": null,
   "metadata": {
    "colab": {
     "base_uri": "https://localhost:8080/"
    },
    "id": "v4YnK7kPdNkO",
    "outputId": "02754ef6-77a9-4729-c53b-3618d815fe4c"
   },
   "outputs": [
    {
     "name": "stdout",
     "output_type": "stream",
     "text": [
      "              precision    recall  f1-score   support\n",
      "\n",
      "          AF       0.85      0.84      0.84       817\n",
      "       Noisy       0.86      0.90      0.88       815\n",
      "      Normal       0.72      0.73      0.72       812\n",
      "       Other       0.63      0.60      0.61       788\n",
      "\n",
      "    accuracy                           0.77      3232\n",
      "   macro avg       0.76      0.77      0.77      3232\n",
      "weighted avg       0.77      0.77      0.77      3232\n",
      "\n"
     ]
    }
   ],
   "source": [
    "# classification reports\n",
    "print(classification_report(val_labels, max, target_names=class_names_v))"
   ]
  },
  {
   "cell_type": "code",
   "execution_count": null,
   "metadata": {
    "colab": {
     "base_uri": "https://localhost:8080/"
    },
    "id": "0xZfdVBuYT2m",
    "outputId": "43656da2-1271-4128-8d09-02f8995b35f9"
   },
   "outputs": [
    {
     "name": "stdout",
     "output_type": "stream",
     "text": [
      "conv2d (3, 3, 3, 32)\n",
      "conv2d_1 (3, 3, 32, 32)\n",
      "conv2d_2 (3, 3, 32, 32)\n",
      "conv2d_3 (3, 3, 32, 32)\n",
      "conv2d_4 (3, 3, 32, 32)\n",
      "conv2d_5 (3, 3, 32, 32)\n",
      "conv2d_6 (3, 3, 32, 32)\n",
      "conv2d_7 (3, 3, 32, 32)\n",
      "conv2d_8 (3, 3, 32, 32)\n",
      "conv2d_9 (3, 3, 32, 32)\n",
      "conv2d_10 (3, 3, 32, 32)\n",
      "conv2d_11 (5, 5, 32, 64)\n",
      "conv2d_12 (5, 5, 64, 64)\n",
      "conv2d_13 (5, 5, 64, 64)\n",
      "conv2d_14 (5, 5, 64, 64)\n",
      "conv2d_15 (5, 5, 64, 64)\n",
      "conv2d_16 (5, 5, 64, 64)\n",
      "conv2d_17 (5, 5, 64, 64)\n",
      "conv2d_18 (5, 5, 64, 64)\n",
      "conv2d_19 (5, 5, 64, 64)\n",
      "conv2d_20 (5, 5, 64, 64)\n",
      "conv2d_21 (5, 5, 64, 64)\n",
      "conv2d_22 (9, 9, 64, 128)\n",
      "conv2d_23 (9, 9, 128, 128)\n",
      "conv2d_24 (9, 9, 128, 128)\n",
      "conv2d_25 (9, 9, 128, 128)\n",
      "conv2d_26 (9, 9, 128, 128)\n",
      "conv2d_27 (9, 9, 128, 128)\n",
      "conv2d_28 (9, 9, 128, 128)\n",
      "conv2d_29 (9, 9, 128, 128)\n",
      "conv2d_30 (9, 9, 128, 128)\n",
      "conv2d_31 (9, 9, 128, 128)\n",
      "conv2d_32 (9, 9, 128, 128)\n"
     ]
    }
   ],
   "source": [
    "# summarize filter shapes\n",
    "for layer in model.layers:\n",
    "\t# check for convolutional layer\n",
    "\tif 'conv' not in layer.name:\n",
    "\t\tcontinue\n",
    "\t# get filter weights\n",
    "\tfilters, biases = layer.get_weights()\n",
    "\tprint(layer.name, filters.shape)"
   ]
  },
  {
   "cell_type": "code",
   "execution_count": null,
   "metadata": {
    "colab": {
     "base_uri": "https://localhost:8080/",
     "height": 578
    },
    "id": "wzRyqBeFitzc",
    "outputId": "c4c446ae-0b78-4893-e353-daa8a1a4438f"
   },
   "outputs": [
    {
     "data": {
      "image/png": "[encoded data removed]",
      "text/plain": [
       "<Figure size 720x720 with 27 Axes>"
      ]
     },
     "metadata": {
      "tags": []
     },
     "output_type": "display_data"
    }
   ],
   "source": [
    "# retrieve weights from the second hidden layer\n",
    "filters, biases = model.layers[2].get_weights()\n",
    "\n",
    "# normalize filter values to 0-1 so we can visualize them\n",
    "f_min, f_max = filters.min(), filters.max()\n",
    "filters = (filters - f_min) / (f_max - f_min)\n",
    "\n",
    "# plot first few filters\n",
    "n_filters, ix = 9, 1\n",
    "\n",
    "# create a new figure\n",
    "plt.figure(figsize=(10, 10))\n",
    "\n",
    "for i in range(n_filters):\n",
    "\t# get the filter\n",
    "\tf = filters[:, :, :, i]\n",
    "\t\n",
    "\t# plot each channel separately\n",
    "\tfor j in range(3):\n",
    "\t\t# specify subplot and turn of axis\n",
    "\t\tax = plt.subplot(n_filters, 3, ix)\n",
    "\t\tax.set_xticks([])\n",
    "\t\tax.set_yticks([])\n",
    "\t\t# plot filter channel in grayscale\n",
    "\t\tplt.imshow(f[:, :, j], cmap='gray')\n",
    "\t\tix += 1\n",
    "# show the figure\n",
    "plt.show()"
   ]
  },
  {
   "cell_type": "code",
   "execution_count": null,
   "metadata": {
    "colab": {
     "base_uri": "https://localhost:8080/",
     "height": 249
    },
    "id": "R4ge1qbuiuTO",
    "outputId": "e2fd486f-e572-4437-90ad-d78749e371da"
   },
   "outputs": [
    {
     "ename": "ValueError",
     "evalue": "ignored",
     "output_type": "error",
     "traceback": [
      "\u001b[0;31m---------------------------------------------------------------------------\u001b[0m",
      "\u001b[0;31mValueError\u001b[0m                                Traceback (most recent call last)",
      "\u001b[0;32m<ipython-input-36-c0eb1eea0343>\u001b[0m in \u001b[0;36m<module>\u001b[0;34m()\u001b[0m\n\u001b[1;32m      1\u001b[0m \u001b[0;36m4\u001b[0m\u001b[0;31m# retrieve weights from the second hidden layer\u001b[0m\u001b[0;34m\u001b[0m\u001b[0;34m\u001b[0m\u001b[0m\n\u001b[0;32m----> 2\u001b[0;31m \u001b[0mfilters\u001b[0m\u001b[0;34m,\u001b[0m \u001b[0mbiases\u001b[0m \u001b[0;34m=\u001b[0m \u001b[0mmodel\u001b[0m\u001b[0;34m.\u001b[0m\u001b[0mlayers\u001b[0m\u001b[0;34m[\u001b[0m\u001b[0;36m6\u001b[0m\u001b[0;34m]\u001b[0m\u001b[0;34m.\u001b[0m\u001b[0mget_weights\u001b[0m\u001b[0;34m(\u001b[0m\u001b[0;34m)\u001b[0m\u001b[0;34m\u001b[0m\u001b[0;34m\u001b[0m\u001b[0m\n\u001b[0m\u001b[1;32m      3\u001b[0m \u001b[0;34m\u001b[0m\u001b[0m\n\u001b[1;32m      4\u001b[0m \u001b[0;31m# normalize filter values to 0-1 so we can visualize them\u001b[0m\u001b[0;34m\u001b[0m\u001b[0;34m\u001b[0m\u001b[0;34m\u001b[0m\u001b[0m\n\u001b[1;32m      5\u001b[0m \u001b[0mf_min\u001b[0m\u001b[0;34m,\u001b[0m \u001b[0mf_max\u001b[0m \u001b[0;34m=\u001b[0m \u001b[0mfilters\u001b[0m\u001b[0;34m.\u001b[0m\u001b[0mmin\u001b[0m\u001b[0;34m(\u001b[0m\u001b[0;34m)\u001b[0m\u001b[0;34m,\u001b[0m \u001b[0mfilters\u001b[0m\u001b[0;34m.\u001b[0m\u001b[0mmax\u001b[0m\u001b[0;34m(\u001b[0m\u001b[0;34m)\u001b[0m\u001b[0;34m\u001b[0m\u001b[0;34m\u001b[0m\u001b[0m\n",
      "\u001b[0;31mValueError\u001b[0m: not enough values to unpack (expected 2, got 0)"
     ]
    }
   ],
   "source": [
    "4# retrieve weights from the second hidden layer\n",
    "filters, biases = model.layers[6].get_weights()\n",
    "\n",
    "# normalize filter values to 0-1 so we can visualize them\n",
    "f_min, f_max = filters.min(), filters.max()\n",
    "filters = (filters - f_min) / (f_max - f_min)\n",
    "\n",
    "# plot first few filters\n",
    "n_filters, ix = 9, 1\n",
    "\n",
    "# create a new figure\n",
    "plt.figure(figsize=(10, 10))\n",
    "\n",
    "for i in range(n_filters):\n",
    "\t# get the filter\n",
    "\tf = filters[:, :, :, i]\n",
    "\t\n",
    "\t# plot each channel separately\n",
    "\tfor j in range(3):\n",
    "\t\t# specify subplot and turn of axis\n",
    "\t\tax = plt.subplot(n_filters, 3, ix)\n",
    "\t\tax.set_xticks([])\n",
    "\t\tax.set_yticks([])\n",
    "\t\t# plot filter channel in grayscale\n",
    "\t\tplt.imshow(f[:, :, j], cmap='gray')\n",
    "\t\tix += 1\n",
    "# show the figure\n",
    "plt.show()"
   ]
  },
  {
   "cell_type": "code",
   "execution_count": null,
   "metadata": {
    "id": "QTBmVGDJYU_i"
   },
   "outputs": [],
   "source": [
    "# retrieve weights from the second hidden layer\n",
    "filters, biases = model.layers[10].get_weights()\n",
    "\n",
    "# normalize filter values to 0-1 so we can visualize them\n",
    "f_min, f_max = filters.min(), filters.max()\n",
    "filters = (filters - f_min) / (f_max - f_min)\n",
    "\n",
    "# plot first few filters\n",
    "n_filters, ix = 9, 1\n",
    "\n",
    "# create a new figure\n",
    "plt.figure(figsize=(10, 10))\n",
    "\n",
    "for i in range(n_filters):\n",
    "\t# get the filter\n",
    "\tf = filters[:, :, :, i]\n",
    "\t\n",
    "\t# plot each channel separately\n",
    "\tfor j in range(3):\n",
    "\t\t# specify subplot and turn of axis\n",
    "\t\tax = plt.subplot(n_filters, 3, ix)\n",
    "\t\tax.set_xticks([])\n",
    "\t\tax.set_yticks([])\n",
    "\t\t# plot filter channel in grayscale\n",
    "\t\tplt.imshow(f[:, :, j], cmap='gray')\n",
    "\t\tix += 1\n",
    "# show the figure\n",
    "plt.show()"
   ]
  },
  {
   "cell_type": "code",
   "execution_count": null,
   "metadata": {
    "id": "crmJdap5hchU"
   },
   "outputs": [],
   "source": [
    "model.layers\n"
   ]
  }
 ],
 "metadata": {
  "accelerator": "GPU",
  "colab": {
   "collapsed_sections": [],
   "name": "AI_project_model_train.ipynb",
   "provenance": []
  },
  "kernelspec": {
   "display_name": "Python 3",
   "language": "python",
   "name": "python3"
  },
  "language_info": {
   "codemirror_mode": {
    "name": "ipython",
    "version": 3
   },
   "file_extension": ".py",
   "mimetype": "text/x-python",
   "name": "python",
   "nbconvert_exporter": "python",
   "pygments_lexer": "ipython3",
   "version": "3.7.9"
  }
 },
 "nbformat": 4,
 "nbformat_minor": 1
}
